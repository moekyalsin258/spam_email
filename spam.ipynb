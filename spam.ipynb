{
 "cells": [
  {
   "cell_type": "code",
   "execution_count": 1,
   "id": "f555987b",
   "metadata": {},
   "outputs": [],
   "source": [
    "import numpy as np\n",
    "import pandas as pd\n",
    "import os\n",
    "import tarfile\n",
    "import urllib\n",
    "DOWNLOAD_ROOT = 'https://spamassassin.apache.org/old/publiccorpus/'\n",
    "SPAM_URL = DOWNLOAD_ROOT + '20030228_spam.tar.bz2'\n",
    "HAM_URL = DOWNLOAD_ROOT + '20030228_easy_ham.tar.bz2'\n",
    "SPAM_PATH = os.path.join('datasets', 'spam')\n",
    "\n",
    "def fetch_spam_data(spam_url = SPAM_URL, ham_url = HAM_URL, spam_path = SPAM_PATH):\n",
    "    if not os.path.isdir(spam_path):\n",
    "        os.makedirs(spam_path)\n",
    "    path1 = os.path.join(spam_path, 'ham.tar.bz2')\n",
    "    path2 = os.path.join(spam_path, 'spam.tar.bz2')\n",
    "    \n",
    "    urllib.request.urlretrieve(ham_url, path1)\n",
    "    tar_file1 = tarfile.open(path1)\n",
    "    tar_file1.extractall(path = spam_path)\n",
    "    tar_file1.close()\n",
    "    \n",
    "    urllib.request.urlretrieve(spam_url, path2)\n",
    "    tar_file2 = tarfile.open(path2)\n",
    "    tar_file2.extractall(path = spam_path)\n",
    "    tar_file2.close()"
   ]
  },
  {
   "cell_type": "code",
   "execution_count": 2,
   "id": "ea942775",
   "metadata": {},
   "outputs": [],
   "source": [
    "fetch_spam_data()"
   ]
  },
  {
   "cell_type": "code",
   "execution_count": 3,
   "id": "fc0b1785",
   "metadata": {},
   "outputs": [],
   "source": [
    "HAM_DIR = os.path.join(SPAM_PATH, 'easy_ham')\n",
    "SPAM_DIR = os.path.join(SPAM_PATH, 'spam')"
   ]
  },
  {
   "cell_type": "code",
   "execution_count": 4,
   "id": "1b14b696",
   "metadata": {},
   "outputs": [],
   "source": [
    "ham_files = [filename for filename in os.listdir(HAM_DIR) if len(filename) > 20]\n",
    "spam_files = [filename for filename in os.listdir(SPAM_DIR) if len(filename) > 20]"
   ]
  },
  {
   "cell_type": "code",
   "execution_count": null,
   "id": "51e3a213",
   "metadata": {},
   "outputs": [],
   "source": []
  },
  {
   "cell_type": "code",
   "execution_count": 5,
   "id": "a3a11c74",
   "metadata": {},
   "outputs": [],
   "source": [
    "import email\n",
    "import email.policy\n",
    "\n",
    "def load_email(is_spam, filename, path = SPAM_PATH):\n",
    "    directionary = 'spam' if is_spam else 'easy_ham'\n",
    "    with open(os.path.join(path, directionary, filename), 'rb') as f:\n",
    "        return email.parser.BytesParser(policy = email.policy.default).parse(f)"
   ]
  },
  {
   "cell_type": "code",
   "execution_count": 6,
   "id": "9ebdbcd1",
   "metadata": {},
   "outputs": [],
   "source": [
    "ham_emails = [load_email(is_spam = False, filename = file) for file in ham_files]"
   ]
  },
  {
   "cell_type": "code",
   "execution_count": 7,
   "id": "9b7da2ad",
   "metadata": {},
   "outputs": [],
   "source": [
    "spam_emails = [load_email(is_spam = True, filename = file) for file in spam_files]"
   ]
  },
  {
   "cell_type": "code",
   "execution_count": 8,
   "id": "db05b6f0",
   "metadata": {},
   "outputs": [],
   "source": [
    "def get_email_structure(email):\n",
    "    if isinstance(email, str):\n",
    "        return email\n",
    "    payload = email.get_payload()\n",
    "    if isinstance(payload, list):\n",
    "        return \"multipart({})\".format(\", \".join([\n",
    "            get_email_structure(sub_email)\n",
    "            for sub_email in payload\n",
    "        ]))\n",
    "    else:\n",
    "        return email.get_content_type()"
   ]
  },
  {
   "cell_type": "code",
   "execution_count": 9,
   "id": "73fce0ad",
   "metadata": {},
   "outputs": [],
   "source": [
    "from collections import Counter\n",
    "def structure_counter(emails):\n",
    "    structures = Counter()\n",
    "    for email in emails:\n",
    "        structure = get_email_structure(email)\n",
    "        structures[structure] += 1\n",
    "    return structures"
   ]
  },
  {
   "cell_type": "code",
   "execution_count": 10,
   "id": "d06b8493",
   "metadata": {},
   "outputs": [
    {
     "data": {
      "text/plain": [
       "[('text/plain', 2408),\n",
       " ('multipart(text/plain, application/pgp-signature)', 66),\n",
       " ('multipart(text/plain, text/html)', 8),\n",
       " ('multipart(text/plain, text/plain)', 4),\n",
       " ('multipart(text/plain)', 3),\n",
       " ('multipart(text/plain, application/octet-stream)', 2),\n",
       " ('multipart(text/plain, text/enriched)', 1),\n",
       " ('multipart(text/plain, application/ms-tnef, text/plain)', 1),\n",
       " ('multipart(multipart(text/plain, text/plain, text/plain), application/pgp-signature)',\n",
       "  1),\n",
       " ('multipart(text/plain, video/mng)', 1),\n",
       " ('multipart(text/plain, multipart(text/plain))', 1),\n",
       " ('multipart(text/plain, application/x-pkcs7-signature)', 1),\n",
       " ('multipart(text/plain, multipart(text/plain, text/plain), text/rfc822-headers)',\n",
       "  1),\n",
       " ('multipart(text/plain, multipart(text/plain, text/plain), multipart(multipart(text/plain, application/x-pkcs7-signature)))',\n",
       "  1),\n",
       " ('multipart(text/plain, application/x-java-applet)', 1)]"
      ]
     },
     "execution_count": 10,
     "metadata": {},
     "output_type": "execute_result"
    }
   ],
   "source": [
    "structure_counter(ham_emails).most_common()"
   ]
  },
  {
   "cell_type": "code",
   "execution_count": 11,
   "id": "c2f89929",
   "metadata": {},
   "outputs": [
    {
     "data": {
      "text/plain": [
       "2500"
      ]
     },
     "execution_count": 11,
     "metadata": {},
     "output_type": "execute_result"
    }
   ],
   "source": [
    "len(ham_emails)"
   ]
  },
  {
   "cell_type": "code",
   "execution_count": 12,
   "id": "69229be2",
   "metadata": {},
   "outputs": [],
   "source": [
    "from sklearn.model_selection import train_test_split\n",
    "train = np.array(ham_emails + spam_emails, dtype = 'object')\n",
    "test = np.array([0] * len(ham_emails) + [1] * len(spam_emails))"
   ]
  },
  {
   "cell_type": "code",
   "execution_count": 13,
   "id": "ecf0f3ea",
   "metadata": {},
   "outputs": [
    {
     "data": {
      "text/plain": [
       "<email.message.EmailMessage at 0x21643462d10>"
      ]
     },
     "execution_count": 13,
     "metadata": {},
     "output_type": "execute_result"
    }
   ],
   "source": [
    "train[0]"
   ]
  },
  {
   "cell_type": "code",
   "execution_count": 14,
   "id": "620e7120",
   "metadata": {},
   "outputs": [],
   "source": [
    "from sklearn.model_selection import StratifiedShuffleSplit\n",
    "split = StratifiedShuffleSplit()\n",
    "for train_index, test_index in split.split(train, test):\n",
    "    X_train = train[train_index]\n",
    "    X_test = train[test_index]\n",
    "    y_train = test[train_index]\n",
    "    y_test = test[test_index]"
   ]
  },
  {
   "cell_type": "code",
   "execution_count": 15,
   "id": "d5ec2660",
   "metadata": {},
   "outputs": [
    {
     "data": {
      "text/plain": [
       "(300,)"
      ]
     },
     "execution_count": 15,
     "metadata": {},
     "output_type": "execute_result"
    }
   ],
   "source": [
    "y_test.shape"
   ]
  },
  {
   "cell_type": "code",
   "execution_count": 16,
   "id": "3c0b08c9",
   "metadata": {},
   "outputs": [],
   "source": [
    "import html\n",
    "import re\n",
    "from html import unescape\n",
    "def html_to_text(html):\n",
    "    text = re.sub('<head.*?>.*?</head>', '', html, flags=re.M | re.S | re.I)\n",
    "    text = re.sub('<a\\s.*?>', ' HYPERLINK ', text, flags=re.M | re.S | re.I)\n",
    "    text = re.sub('<.*?>', '', text, flags=re.M | re.S)\n",
    "    text = re.sub(r'(\\s*\\n)+', '\\n', text, flags=re.M | re.S)\n",
    "    return unescape(text)"
   ]
  },
  {
   "cell_type": "code",
   "execution_count": 17,
   "id": "d33854b4",
   "metadata": {},
   "outputs": [],
   "source": [
    "html_spam_emails = []\n",
    "for email in X_train[y_train == 1]:\n",
    "    if get_email_structure(email) == 'text/html':\n",
    "        html_spam_emails.append(email)"
   ]
  },
  {
   "cell_type": "code",
   "execution_count": 18,
   "id": "2d71c111",
   "metadata": {},
   "outputs": [],
   "source": [
    "some_html_spams = html_spam_emails[2]"
   ]
  },
  {
   "cell_type": "code",
   "execution_count": 19,
   "id": "0ae1fb7e",
   "metadata": {},
   "outputs": [
    {
     "data": {
      "text/plain": [
       "<email.message.EmailMessage at 0x21655ba5270>"
      ]
     },
     "execution_count": 19,
     "metadata": {},
     "output_type": "execute_result"
    }
   ],
   "source": [
    "some_html_spams"
   ]
  },
  {
   "cell_type": "code",
   "execution_count": 20,
   "id": "c9e3668a",
   "metadata": {},
   "outputs": [
    {
     "name": "stdout",
     "output_type": "stream",
     "text": [
      "\n",
      "Ou Wei Lighting, Nights Will Be Lightening!!!\n",
      "  ��������������������\n",
      "  ����������\n",
      "����������������������������������������������������������������������������������������������������������\n",
      "����������\n",
      "������������ ������������������������������ ��������������\n",
      "��������������������������\n",
      "������������������������������������������������\n",
      "  ���������������������������������������������������� HYPERLINK http://www.ouweilighting.com\n",
      "  ����������������������������������\n",
      "����:0760-2312136\n",
      "����:0760-2317010\n",
      "Email:ouwei@ouweilighting.com\n",
      "����:����������������������������\n",
      "������\n",
      "�� ��������\n",
      "OU WEI LIGHTING, NIGHTS WILL BE LIGHTENED��\n",
      "Brief Introduction\n",
      "Since founded in 1996, Ou Wei lighting Co.,ltd. has succeed in manufacturing\n",
      "  the Projection Lighting, Ceiling&Hanging Lighting, Inlaid Lighting. The\n",
      "  products have stepped to professionalizing and seriesing development , applying\n",
      "  to the lighting of the markets, hotels, office buildings, house rooms��engineerings\n",
      "  and projects.\n",
      "We are expecting your cooperation and trade, and welcome to our homepage (www.ouweilighting.com)\n",
      "  or contact us by:\n",
      "Tel: 0760-2312136\n",
      "Fax:0760-2317010\n",
      "Add: Sen Li lighting city, Haizhou Guzhen, Zhongshan, Guangdong��\n",
      "Email: HYPERLINK ouwei@ouweilighting.com\n",
      "Thank you a lot!\n",
      "��������������������\n",
      "OU WEI LIGHTING CO., LTD.\n",
      "                   var tc_user=\"ouwei\";var tc_class=\"4\";\n",
      "\n"
     ]
    }
   ],
   "source": [
    "print(html_to_text(some_html_spams.get_content()))"
   ]
  },
  {
   "cell_type": "code",
   "execution_count": 21,
   "id": "923a4a8f",
   "metadata": {},
   "outputs": [],
   "source": [
    "def email_to_text(email):\n",
    "    html = None\n",
    "    for part in email.walk():\n",
    "        ctype = part.get_content_type()\n",
    "        if ctype != 'text/plain' and ctype != 'text/html':\n",
    "            continue\n",
    "        try:\n",
    "            content = part.get_content()\n",
    "        except:\n",
    "            content = part.get_payload()\n",
    "        if ctype == 'text/plain':\n",
    "            return content\n",
    "        else:\n",
    "            html = content\n",
    "        if html:\n",
    "            return html_to_text(content)"
   ]
  },
  {
   "cell_type": "code",
   "execution_count": 47,
   "id": "9f179960",
   "metadata": {},
   "outputs": [],
   "source": [
    "import urlextract"
   ]
  },
  {
   "cell_type": "code",
   "execution_count": 48,
   "id": "453e1cbb",
   "metadata": {},
   "outputs": [
    {
     "data": {
      "text/plain": [
       "'comput'"
      ]
     },
     "execution_count": 48,
     "metadata": {},
     "output_type": "execute_result"
    }
   ],
   "source": [
    "import nltk\n",
    "stemmer = nltk.PorterStemmer()\n",
    "stemmer.stem('computer')"
   ]
  },
  {
   "cell_type": "code",
   "execution_count": 49,
   "id": "8203f1e9",
   "metadata": {},
   "outputs": [],
   "source": [
    "from sklearn.base import BaseEstimator, TransformerMixin\n",
    "class EmailToWordCountTransformer (BaseEstimator, TransformerMixin):\n",
    "    \n",
    "    def __init__(self, strip_header = True, lowercase = True, replace_number = True,\n",
    "                replace_urls = True, strip_puncuation = True, stemming = True):\n",
    "        self.strip_header = strip_header\n",
    "        self.lowercase = lowercase\n",
    "        self.replace_number = replace_number\n",
    "        self.replace_urls = replace_urls\n",
    "        self.strip_puncuation =strip_puncuation\n",
    "        self.stemming = stemming\n",
    "        \n",
    "    def fit(self, X, y=None):\n",
    "        return self\n",
    "    \n",
    "    def transform(self, X, y = None):\n",
    "        X_transformed = []\n",
    "        for email in X:\n",
    "            text = email_to_text(email) or ''\n",
    "            \n",
    "            if self.lowercase:\n",
    "                text = text.lower()\n",
    "                \n",
    "            if self.replace_urls:\n",
    "                url_extractor = urlextract.URLExtract()\n",
    "                urls = list(set(url_extractor.find_urls(text)))\n",
    "                urls = list(set(url_extractor.find_urls(text)))\n",
    "                for url in urls:\n",
    "                    text = text.replace(url, \"URLs\")\n",
    "                    \n",
    "            if self.replace_number:\n",
    "                text = re.sub(r'\\d+', 'NUMBER', text, flags = re.M)\n",
    "                \n",
    "            if self.strip_puncuation:\n",
    "                text = re.sub(r'\\W+', ' ', text, flags = re.M)\n",
    "                \n",
    "            word_counts = Counter(text.split())\n",
    "            if self.stemming:\n",
    "                stemming_word_counts = Counter()\n",
    "                for word, count in word_counts.items():\n",
    "                    stemming_word_counts[stemmer.stem(word)] += count\n",
    "                word_counts = stemming_word_counts\n",
    "            X_transformed.append(word_counts)\n",
    "        return np.array(X_transformed)\n",
    "        "
   ]
  },
  {
   "cell_type": "code",
   "execution_count": 50,
   "id": "7f90ed95",
   "metadata": {},
   "outputs": [],
   "source": [
    "from scipy.sparse import csr_matrix\n",
    "class WordCountToVectorTransformer(BaseEstimator, TransformerMixin):\n",
    "    \n",
    "    def __init__(self, vocabulary_limit = 1000):\n",
    "        self.vocabulary_limit = vocabulary_limit\n",
    "        \n",
    "    def fit(self, X, y = None):\n",
    "        total_count = Counter()\n",
    "        for word_count in X:\n",
    "            for word, count in word_count.items():\n",
    "                total_count[word] += min(count, 10)\n",
    "        most_common = total_count.most_common()[:self.vocabulary_limit]\n",
    "        self.vocabulary_ = {word : index + 1 for index, (word, count) in enumerate(most_common)}\n",
    "        return self\n",
    "    def transform(self, X, y = None):\n",
    "        rows = []\n",
    "        col = []\n",
    "        data = []\n",
    "        for row, word_count in enumerate(X):\n",
    "            for word, count in word_count.items():\n",
    "                rows.append(row)\n",
    "                col.append(self.vocabulary_.get(word, 0))\n",
    "                data.append(count)\n",
    "        return csr_matrix((data, (rows, col)), shape = (len(X), self.vocabulary_limit + 1))"
   ]
  },
  {
   "cell_type": "code",
   "execution_count": 51,
   "id": "0bbb6abc",
   "metadata": {},
   "outputs": [
    {
     "data": {
      "text/plain": [
       "3"
      ]
     },
     "execution_count": 51,
     "metadata": {},
     "output_type": "execute_result"
    }
   ],
   "source": [
    "X_few = X_train[:3]\n",
    "X_few_wordcounts = EmailToWordCountTransformer().fit_transform(X_few)\n",
    "len(X_few_wordcounts)"
   ]
  },
  {
   "cell_type": "code",
   "execution_count": 52,
   "id": "d429b7ba",
   "metadata": {},
   "outputs": [
    {
     "data": {
      "text/plain": [
       "<3x101 sparse matrix of type '<class 'numpy.intc'>'\n",
       "\twith 143 stored elements in Compressed Sparse Row format>"
      ]
     },
     "execution_count": 52,
     "metadata": {},
     "output_type": "execute_result"
    }
   ],
   "source": [
    "vocab_transformer = WordCountToVectorTransformer(vocabulary_limit=100)\n",
    "X_few_vectors = vocab_transformer.fit_transform(X_few_wordcounts)\n",
    "X_few_vectors"
   ]
  },
  {
   "cell_type": "code",
   "execution_count": 53,
   "id": "05bc1bba",
   "metadata": {},
   "outputs": [
    {
     "data": {
      "text/plain": [
       "array([187,  30,  28], dtype=int32)"
      ]
     },
     "execution_count": 53,
     "metadata": {},
     "output_type": "execute_result"
    }
   ],
   "source": [
    "X_few_vectors.toarray()[:,0]"
   ]
  },
  {
   "cell_type": "code",
   "execution_count": 57,
   "id": "f51ee56f",
   "metadata": {},
   "outputs": [],
   "source": [
    "from sklearn.pipeline import Pipeline\n",
    "preprocessing_pipeline = Pipeline([('email_to_wordcount_transformer',\n",
    "                                    EmailToWordCountTransformer()),\n",
    "                                  ('wordcount_to_vector_transformer', \n",
    "                                   WordCountToVectorTransformer(vocabulary_limit = 1000))])"
   ]
  },
  {
   "cell_type": "code",
   "execution_count": null,
   "id": "419a6e47",
   "metadata": {},
   "outputs": [],
   "source": [
    "X_train_transformed = preprocessing_pipeline.fit_transform(X_train)"
   ]
  },
  {
   "cell_type": "code",
   "execution_count": null,
   "id": "05dce53e",
   "metadata": {},
   "outputs": [],
   "source": [
    "from sklearn.model_selection import cross_val_score\n",
    "from sklearn.linear_model import LogisticRegression\n",
    "logistic_reg = LogisticRegression(solver = 'lbfgs', max_iter = 100, random_state = 43)\n",
    "accuracy = cross_val_score(logistic_reg, X_train_transformed,\n",
    "                           y_train,cv = 10,  scoring = 'accuracy')"
   ]
  },
  {
   "cell_type": "code",
   "execution_count": null,
   "id": "99a0ee24",
   "metadata": {},
   "outputs": [],
   "source": [
    "accuracy.mean()"
   ]
  },
  {
   "cell_type": "code",
   "execution_count": null,
   "id": "e8f2af1c",
   "metadata": {},
   "outputs": [],
   "source": [
    "\n",
    "full_pipeline = Pipeline([('preprocessing_pipeline', preprocessing_pipeline),\n",
    "                         ('logistic_regression', LogisticRegression(random_state = 43))])\n",
    "\n",
    "full_pipeline.fit(X_train, y_train)\n",
    "\n",
    "full_pipeline.predict(X_test)"
   ]
  },
  {
   "cell_type": "code",
   "execution_count": null,
   "id": "0ae837e3",
   "metadata": {},
   "outputs": [],
   "source": []
  },
  {
   "cell_type": "code",
   "execution_count": null,
   "id": "42ce8f3e",
   "metadata": {},
   "outputs": [],
   "source": [
    "from sklearn.metrics import precision_score, recall_score"
   ]
  },
  {
   "cell_type": "code",
   "execution_count": null,
   "id": "f1357017",
   "metadata": {},
   "outputs": [],
   "source": [
    "X_test_transformed = preprocessing_pipeline.transform(X_test)"
   ]
  },
  {
   "cell_type": "code",
   "execution_count": null,
   "id": "ddff9862",
   "metadata": {},
   "outputs": [],
   "source": [
    "logistic_reg.fit(X_train_transformed, y_train)\n",
    "y_pred = logistic_reg.predict(X_test_transformed)"
   ]
  },
  {
   "cell_type": "code",
   "execution_count": null,
   "id": "a97d5d29",
   "metadata": {},
   "outputs": [],
   "source": [
    "print(f\"PRECISON : {precision_score(y_test, y_pred)} \\nRECALL : {recall_score(y_test, y_pred)}\")"
   ]
  },
  {
   "cell_type": "code",
   "execution_count": null,
   "id": "1d8b8634",
   "metadata": {},
   "outputs": [],
   "source": [
    "y_pred.sum()"
   ]
  },
  {
   "cell_type": "code",
   "execution_count": null,
   "id": "4a5d57e2",
   "metadata": {},
   "outputs": [],
   "source": [
    "y_test.sum()"
   ]
  },
  {
   "cell_type": "code",
   "execution_count": null,
   "id": "0c3e9d89",
   "metadata": {},
   "outputs": [],
   "source": [
    "accuracy_test = cross_val_score(logistic_reg, X_test_transformed,\n",
    "                           y_test,cv = 10,  scoring = 'accuracy')"
   ]
  },
  {
   "cell_type": "code",
   "execution_count": null,
   "id": "01ab2d8d",
   "metadata": {},
   "outputs": [],
   "source": [
    "import pickle\n",
    "pickle.dump(full_pipeline, open('email_spam.pickle', 'wb'))"
   ]
  },
  {
   "cell_type": "code",
   "execution_count": null,
   "id": "4aaa3ef4",
   "metadata": {},
   "outputs": [],
   "source": [
    "accuracy_test.mean()"
   ]
  },
  {
   "cell_type": "code",
   "execution_count": null,
   "id": "1e678c41",
   "metadata": {},
   "outputs": [],
   "source": [
    "import pickle\n",
    "pickle.dump()"
   ]
  },
  {
   "cell_type": "code",
   "execution_count": null,
   "id": "25055405",
   "metadata": {},
   "outputs": [],
   "source": []
  },
  {
   "cell_type": "code",
   "execution_count": null,
   "id": "498709b9",
   "metadata": {},
   "outputs": [],
   "source": []
  }
 ],
 "metadata": {
  "kernelspec": {
   "display_name": "Python 3 (ipykernel)",
   "language": "python",
   "name": "python3"
  },
  "language_info": {
   "codemirror_mode": {
    "name": "ipython",
    "version": 3
   },
   "file_extension": ".py",
   "mimetype": "text/x-python",
   "name": "python",
   "nbconvert_exporter": "python",
   "pygments_lexer": "ipython3",
   "version": "3.10.8"
  }
 },
 "nbformat": 4,
 "nbformat_minor": 5
}
